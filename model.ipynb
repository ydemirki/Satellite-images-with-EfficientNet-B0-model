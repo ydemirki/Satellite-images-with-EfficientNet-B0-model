{
 "cells": [
  {
   "cell_type": "code",
   "execution_count": 1,
   "id": "139bdd83-55ac-45a0-8d01-dd385c31d058",
   "metadata": {},
   "outputs": [
    {
     "name": "stderr",
     "output_type": "stream",
     "text": [
      "INFO:albumentations.check_version:A new version of Albumentations is available: 1.4.15 (you have 1.4.11). Upgrade using: pip install --upgrade albumentations\n"
     ]
    }
   ],
   "source": [
    "import torch\n",
    "import torch.nn as nn\n",
    "import torch.optim as optim\n",
    "from torch.utils.data import DataLoader, Dataset\n",
    "import albumentations as A\n",
    "from albumentations.pytorch import ToTensorV2\n",
    "import numpy as np\n",
    "import rasterio\n",
    "from sklearn.model_selection import train_test_split\n",
    "import os\n",
    "from tqdm import tqdm"
   ]
  },
  {
   "cell_type": "code",
   "execution_count": 2,
   "id": "77ed6179-d9ba-40bc-b62f-168afe7098e3",
   "metadata": {},
   "outputs": [],
   "source": [
    "class SegmentationDataset(Dataset):\n",
    "    def __init__(self, image_paths, label_paths, transform=None):\n",
    "        self.image_paths = image_paths\n",
    "        self.label_paths = label_paths\n",
    "        self.transform = transform\n",
    "\n",
    "    def __len__(self):\n",
    "        return len(self.image_paths)\n",
    "\n",
    "    def __getitem__(self, idx):\n",
    "        try:\n",
    "            with rasterio.open(self.image_paths[idx]) as src:\n",
    "                image = src.read([1, 2, 3, 4, 5, 6])  # Read all 6 bands\n",
    "            image = np.transpose(image, (1, 2, 0))  # Change from (bands, height, width) to (height, width, bands)\n",
    "\n",
    "            with rasterio.open(self.label_paths[idx]) as src:\n",
    "                label = src.read(1)  # Assuming labels are in the first band\n",
    "\n",
    "            if self.transform:\n",
    "                image = self.transform(image=image)['image']  # Apply transformations\n",
    "\n",
    "            return torch.tensor(image, dtype=torch.float32), torch.tensor(label, dtype=torch.long)\n",
    "\n",
    "        except Exception as e:\n",
    "            print(f\"Error loading sample at index {idx}: {str(e)}\")\n",
    "            return None, None\n",
    "\n",
    "\n",
    "def get_all_file_paths(directory):\n",
    "    file_paths = []\n",
    "    for root, _, files in os.walk(directory):\n",
    "        for file in files:\n",
    "            if file.endswith(\".tif\") or file.endswith(\".tiff\"):\n",
    "                file_paths.append(os.path.join(root, file))\n",
    "    return sorted(file_paths)  # Ensure consistent ordering\n",
    "\n"
   ]
  },
  {
   "cell_type": "code",
   "execution_count": 3,
   "id": "1a344b9d-c445-48d9-9862-542a19e2b252",
   "metadata": {},
   "outputs": [],
   "source": [
    "train_transform = A.Compose([ \n",
    "    ToTensorV2() \n",
    "])\n",
    "\n",
    "\n",
    "val_transform = A.Compose([\n",
    "    ToTensorV2(),\n",
    "])\n",
    "\n",
    "test_transform = A.Compose([\n",
    "    ToTensorV2(),\n",
    "])\n"
   ]
  },
  {
   "cell_type": "code",
   "execution_count": 4,
   "id": "76b61c1e-920a-4b4d-9994-4d147cd481fb",
   "metadata": {},
   "outputs": [
    {
     "name": "stdout",
     "output_type": "stream",
     "text": [
      "Train images: 191\n",
      "Train labels: 191\n",
      "Val images: 41\n",
      "Val labels: 41\n",
      "Test images: 41\n",
      "Test labels: 41\n",
      "Train dataset size: 191\n",
      "Val dataset size: 41\n",
      "Test dataset size: 41\n"
     ]
    }
   ],
   "source": [
    "\n",
    "\n",
    "train_image_paths = get_all_file_paths('/teamspace/studios/this_studio/semanticseg/dataset/new_data/train6/train6combined')\n",
    "train_label_paths = get_all_file_paths('/teamspace/studios/this_studio/semanticseg/dataset/new_data/train6/label')\n",
    "val_image_paths = get_all_file_paths('/teamspace/studios/this_studio/semanticseg/dataset/new_data/val6/val6combined')\n",
    "val_label_paths = get_all_file_paths('/teamspace/studios/this_studio/semanticseg/dataset/new_data/val6/label')\n",
    "test_image_paths = get_all_file_paths('/teamspace/studios/this_studio/semanticseg/dataset/new_data/test6/test6combined')\n",
    "test_label_paths = get_all_file_paths('/teamspace/studios/this_studio/semanticseg/dataset/new_data/test6/label')\n",
    "\n",
    "print(f'Train images: {len(train_image_paths)}')\n",
    "print(f'Train labels: {len(train_label_paths)}')\n",
    "print(f'Val images: {len(val_image_paths)}')\n",
    "print(f'Val labels: {len(val_label_paths)}')\n",
    "print(f'Test images: {len(test_image_paths)}')\n",
    "print(f'Test labels: {len(test_label_paths)}')\n",
    "\n",
    "train_dataset = SegmentationDataset(train_image_paths, train_label_paths, train_transform)\n",
    "val_dataset = SegmentationDataset(val_image_paths, val_label_paths, val_transform)\n",
    "test_dataset = SegmentationDataset(test_image_paths, test_label_paths, test_transform)\n",
    "\n",
    "print(f'Train dataset size: {len(train_dataset)}')\n",
    "print(f'Val dataset size: {len(val_dataset)}')\n",
    "print(f'Test dataset size: {len(test_dataset)}')\n",
    "\n",
    "train_loader = DataLoader(train_dataset, batch_size=32, shuffle=True)\n",
    "val_loader = DataLoader(val_dataset, batch_size=32, shuffle=True) #true ?\n",
    "test_loader = DataLoader(test_dataset, batch_size=32, shuffle=False)\n"
   ]
  },
  {
   "cell_type": "code",
   "execution_count": 5,
   "id": "3bbcebc3-5855-4820-8f1f-3af5b8111824",
   "metadata": {},
   "outputs": [],
   "source": [
    "from torch.optim.lr_scheduler import CosineAnnealingWarmRestarts\n",
    "import segmentation_models_pytorch as smp\n",
    "from torch.optim.lr_scheduler import ReduceLROnPlateau\n",
    "import segmentation_models_pytorch as smp\n",
    "from torchmetrics import F1Score\n",
    "import torch\n",
    "import torch.nn as nn\n",
    "import torch.optim as optim\n",
    "from torch.optim import lr_scheduler  # lr_scheduler modülünü ekleyin\n",
    "from torch.utils.data import DataLoader\n",
    "from torchvision import transforms\n",
    "import albumentations as A\n",
    "from torch.optim.lr_scheduler import CosineAnnealingWarmRestarts\n",
    "from torch.optim.lr_scheduler import ReduceLROnPlateau\n",
    "\n",
    "model = smp.UnetPlusPlus(\n",
    "    encoder_name=\"resnext50_32x4d\",  \n",
    "    encoder_depth=5,                 # Depth of the encoder (number of stages used in encoder)\n",
    "    encoder_weights=\"imagenet\",      # Use pretrained weights from ImageNet\n",
    "    in_channels=6,                   # Number of input channels (adjust this based on your data)\n",
    "    classes=14                       # Number of output classes\n",
    ")\n",
    "\n",
    "\n",
    "num_epochs=150\n",
    "import torch.nn.functional as F\n",
    "\n",
    "class FocalLoss(nn.Module):\n",
    "       def __init__(self, alpha=1, gamma=2, reduction='mean'):\n",
    "           super(FocalLoss, self).__init__()\n",
    "           self.alpha = alpha\n",
    "           self.gamma = gamma\n",
    "           self.reduction = reduction\n",
    "\n",
    "       def forward(self, inputs, targets):\n",
    "           ce_loss = F.cross_entropy(inputs, targets, reduction='none')\n",
    "           pt = torch.exp(-ce_loss)\n",
    "           focal_loss = self.alpha * (1 - pt) ** self.gamma * ce_loss\n",
    "\n",
    "           if self.reduction == 'mean':\n",
    "               return focal_loss.mean()\n",
    "           elif self.reduction == 'sum':\n",
    "               return focal_loss.sum()\n",
    "           else:\n",
    "               return focal_loss\n",
    "\n",
    "\n",
    "loss_fn = FocalLoss()\n",
    "#loss_fn = nn.CrossEntropyLoss() \n",
    "optimizer = optim.Adam(model.parameters(), lr=1e-3)\n",
    "#scheduler = CosineAnnealingWarmRestarts(optimizer, T_0=7, T_mult=2, eta_min=1e-5)\n",
    "\n"
   ]
  },
  {
   "cell_type": "code",
   "execution_count": 6,
   "id": "9b58729d-bd8c-48db-b3d9-7aac949bdc3a",
   "metadata": {},
   "outputs": [
    {
     "name": "stderr",
     "output_type": "stream",
     "text": [
      "Epoch 1/150:   0%|          | 0/6 [00:00<?, ?it/s]/home/zeus/miniconda3/envs/cloudspace/lib/python3.10/site-packages/rasterio/__init__.py:304: NotGeoreferencedWarning: Dataset has no geotransform, gcps, or rpcs. The identity matrix will be returned.\n",
      "  dataset = DatasetReader(path, driver=driver, sharing=sharing, **kwargs)\n",
      "/tmp/ipykernel_56680/6783197.py:22: UserWarning: To copy construct from a tensor, it is recommended to use sourceTensor.clone().detach() or sourceTensor.clone().detach().requires_grad_(True), rather than torch.tensor(sourceTensor).\n",
      "  return torch.tensor(image, dtype=torch.float32), torch.tensor(label, dtype=torch.long)\n",
      "Epoch 1/150:  50%|█████     | 3/6 [00:02<00:01,  1.68it/s, train_loss=1]    "
     ]
    },
    {
     "name": "stderr",
     "output_type": "stream",
     "text": [
      "Epoch 1/150: 100%|██████████| 6/6 [00:03<00:00,  1.84it/s, train_loss=1.72]\n"
     ]
    },
    {
     "name": "stdout",
     "output_type": "stream",
     "text": [
      "Epoch 1 | Val Loss: 2.0926 | Val Accuracy: 29.8349% | Val mIOU: 0.9989 | Val mF1: 0.0109\n"
     ]
    },
    {
     "name": "stderr",
     "output_type": "stream",
     "text": [
      "Epoch 2/150: 100%|██████████| 6/6 [00:03<00:00,  1.73it/s, train_loss=1.1]  \n"
     ]
    },
    {
     "name": "stdout",
     "output_type": "stream",
     "text": [
      "Epoch 2 | Val Loss: 2.0097 | Val Accuracy: 31.2652% | Val mIOU: 0.9991 | Val mF1: 0.0126\n"
     ]
    },
    {
     "name": "stderr",
     "output_type": "stream",
     "text": [
      "Epoch 3/150: 100%|██████████| 6/6 [00:03<00:00,  1.68it/s, train_loss=0.896]\n"
     ]
    },
    {
     "name": "stdout",
     "output_type": "stream",
     "text": [
      "Epoch 3 | Val Loss: 1.1151 | Val Accuracy: 54.6919% | Val mIOU: 0.9991 | Val mF1: 0.0280\n"
     ]
    },
    {
     "name": "stderr",
     "output_type": "stream",
     "text": [
      "Epoch 4/150: 100%|██████████| 6/6 [00:02<00:00,  2.46it/s, train_loss=0.771]\n"
     ]
    },
    {
     "name": "stdout",
     "output_type": "stream",
     "text": [
      "Epoch 4 | Val Loss: 0.9068 | Val Accuracy: 59.5117% | Val mIOU: 0.9992 | Val mF1: 0.0329\n"
     ]
    },
    {
     "name": "stderr",
     "output_type": "stream",
     "text": [
      "Epoch 5/150: 100%|██████████| 6/6 [00:03<00:00,  1.66it/s, train_loss=0.706]\n"
     ]
    },
    {
     "name": "stdout",
     "output_type": "stream",
     "text": [
      "Epoch 5 | Val Loss: 0.7165 | Val Accuracy: 64.6753% | Val mIOU: 0.9992 | Val mF1: 0.0350\n"
     ]
    },
    {
     "name": "stderr",
     "output_type": "stream",
     "text": [
      "Epoch 6/150: 100%|██████████| 6/6 [00:03<00:00,  1.73it/s, train_loss=0.647]\n"
     ]
    },
    {
     "name": "stdout",
     "output_type": "stream",
     "text": [
      "Epoch 6 | Val Loss: 0.7271 | Val Accuracy: 62.5670% | Val mIOU: 0.9992 | Val mF1: 0.0354\n"
     ]
    },
    {
     "name": "stderr",
     "output_type": "stream",
     "text": [
      "Epoch 7/150: 100%|██████████| 6/6 [00:02<00:00,  2.50it/s, train_loss=0.579] \n"
     ]
    },
    {
     "name": "stdout",
     "output_type": "stream",
     "text": [
      "Epoch 7 | Val Loss: 0.6502 | Val Accuracy: 65.2673% | Val mIOU: 0.9991 | Val mF1: 0.0376\n"
     ]
    },
    {
     "name": "stderr",
     "output_type": "stream",
     "text": [
      "Epoch 8/150: 100%|██████████| 6/6 [00:02<00:00,  2.03it/s, train_loss=0.559] \n"
     ]
    },
    {
     "name": "stdout",
     "output_type": "stream",
     "text": [
      "Epoch 8 | Val Loss: 0.6362 | Val Accuracy: 65.4240% | Val mIOU: 0.9991 | Val mF1: 0.0369\n"
     ]
    },
    {
     "name": "stderr",
     "output_type": "stream",
     "text": [
      "Epoch 9/150: 100%|██████████| 6/6 [00:02<00:00,  2.51it/s, train_loss=0.529] \n"
     ]
    },
    {
     "name": "stdout",
     "output_type": "stream",
     "text": [
      "Epoch 9 | Val Loss: 0.5786 | Val Accuracy: 67.4075% | Val mIOU: 0.9992 | Val mF1: 0.0405\n"
     ]
    },
    {
     "name": "stderr",
     "output_type": "stream",
     "text": [
      "Epoch 10/150: 100%|██████████| 6/6 [00:02<00:00,  2.48it/s, train_loss=0.498] \n"
     ]
    },
    {
     "name": "stdout",
     "output_type": "stream",
     "text": [
      "Epoch 10 | Val Loss: 0.5934 | Val Accuracy: 66.9153% | Val mIOU: 0.9991 | Val mF1: 0.0350\n"
     ]
    },
    {
     "name": "stderr",
     "output_type": "stream",
     "text": [
      "Epoch 11/150: 100%|██████████| 6/6 [00:02<00:00,  2.51it/s, train_loss=0.466] \n"
     ]
    },
    {
     "name": "stdout",
     "output_type": "stream",
     "text": [
      "Epoch 11 | Val Loss: 0.5610 | Val Accuracy: 67.1114% | Val mIOU: 0.9992 | Val mF1: 0.0407\n"
     ]
    },
    {
     "name": "stderr",
     "output_type": "stream",
     "text": [
      "Epoch 12/150: 100%|██████████| 6/6 [00:02<00:00,  2.50it/s, train_loss=0.435] \n"
     ]
    },
    {
     "name": "stdout",
     "output_type": "stream",
     "text": [
      "Epoch 12 | Val Loss: 0.5217 | Val Accuracy: 69.2122% | Val mIOU: 0.9991 | Val mF1: 0.0444\n"
     ]
    },
    {
     "name": "stderr",
     "output_type": "stream",
     "text": [
      "Epoch 13/150: 100%|██████████| 6/6 [00:02<00:00,  2.49it/s, train_loss=0.398] \n"
     ]
    },
    {
     "name": "stdout",
     "output_type": "stream",
     "text": [
      "Epoch 13 | Val Loss: 0.5211 | Val Accuracy: 69.4613% | Val mIOU: 0.9991 | Val mF1: 0.0450\n"
     ]
    },
    {
     "name": "stderr",
     "output_type": "stream",
     "text": [
      "Epoch 14/150: 100%|██████████| 6/6 [00:02<00:00,  2.48it/s, train_loss=0.38]  \n"
     ]
    },
    {
     "name": "stdout",
     "output_type": "stream",
     "text": [
      "Epoch 14 | Val Loss: 0.4660 | Val Accuracy: 72.2095% | Val mIOU: 0.9973 | Val mF1: 0.0483\n"
     ]
    },
    {
     "name": "stderr",
     "output_type": "stream",
     "text": [
      "Epoch 15/150: 100%|██████████| 6/6 [00:02<00:00,  2.50it/s, train_loss=0.362] \n"
     ]
    },
    {
     "name": "stdout",
     "output_type": "stream",
     "text": [
      "Epoch 15 | Val Loss: 0.4631 | Val Accuracy: 70.2877% | Val mIOU: 0.9992 | Val mF1: 0.0495\n"
     ]
    },
    {
     "name": "stderr",
     "output_type": "stream",
     "text": [
      "Epoch 16/150: 100%|██████████| 6/6 [00:02<00:00,  2.48it/s, train_loss=0.347] \n"
     ]
    },
    {
     "name": "stdout",
     "output_type": "stream",
     "text": [
      "Epoch 16 | Val Loss: 0.4715 | Val Accuracy: 71.5639% | Val mIOU: 0.9992 | Val mF1: 0.0493\n"
     ]
    },
    {
     "name": "stderr",
     "output_type": "stream",
     "text": [
      "Epoch 17/150: 100%|██████████| 6/6 [00:02<00:00,  2.48it/s, train_loss=0.337] \n"
     ]
    },
    {
     "name": "stdout",
     "output_type": "stream",
     "text": [
      "Epoch 17 | Val Loss: 0.4330 | Val Accuracy: 71.6924% | Val mIOU: 0.9992 | Val mF1: 0.0488\n"
     ]
    },
    {
     "name": "stderr",
     "output_type": "stream",
     "text": [
      "Epoch 18/150: 100%|██████████| 6/6 [00:02<00:00,  2.46it/s, train_loss=0.32]  \n"
     ]
    },
    {
     "name": "stdout",
     "output_type": "stream",
     "text": [
      "Epoch 18 | Val Loss: 0.4381 | Val Accuracy: 72.9401% | Val mIOU: 0.9972 | Val mF1: 0.0525\n"
     ]
    },
    {
     "name": "stderr",
     "output_type": "stream",
     "text": [
      "Epoch 19/150: 100%|██████████| 6/6 [00:02<00:00,  2.50it/s, train_loss=0.301] \n"
     ]
    },
    {
     "name": "stdout",
     "output_type": "stream",
     "text": [
      "Epoch 19 | Val Loss: 0.4136 | Val Accuracy: 72.1697% | Val mIOU: 0.9991 | Val mF1: 0.0522\n"
     ]
    },
    {
     "name": "stderr",
     "output_type": "stream",
     "text": [
      "Epoch 20/150: 100%|██████████| 6/6 [00:02<00:00,  2.47it/s, train_loss=0.292] \n"
     ]
    },
    {
     "name": "stdout",
     "output_type": "stream",
     "text": [
      "Epoch 20 | Val Loss: 0.3897 | Val Accuracy: 73.3357% | Val mIOU: 0.9991 | Val mF1: 0.0526\n"
     ]
    },
    {
     "name": "stderr",
     "output_type": "stream",
     "text": [
      "Epoch 21/150: 100%|██████████| 6/6 [00:02<00:00,  2.49it/s, train_loss=0.282] \n"
     ]
    },
    {
     "name": "stdout",
     "output_type": "stream",
     "text": [
      "Epoch 21 | Val Loss: 0.4233 | Val Accuracy: 71.5287% | Val mIOU: 0.9991 | Val mF1: 0.0525\n"
     ]
    },
    {
     "name": "stderr",
     "output_type": "stream",
     "text": [
      "Epoch 22/150: 100%|██████████| 6/6 [00:02<00:00,  2.46it/s, train_loss=0.271] \n"
     ]
    },
    {
     "name": "stdout",
     "output_type": "stream",
     "text": [
      "Epoch 22 | Val Loss: 0.3839 | Val Accuracy: 74.8585% | Val mIOU: 0.9991 | Val mF1: 0.0531\n"
     ]
    },
    {
     "name": "stderr",
     "output_type": "stream",
     "text": [
      "Epoch 23/150: 100%|██████████| 6/6 [00:02<00:00,  2.48it/s, train_loss=0.256] \n"
     ]
    },
    {
     "name": "stdout",
     "output_type": "stream",
     "text": [
      "Epoch 23 | Val Loss: 0.3273 | Val Accuracy: 76.7605% | Val mIOU: 0.9991 | Val mF1: 0.0563\n"
     ]
    },
    {
     "name": "stderr",
     "output_type": "stream",
     "text": [
      "Epoch 24/150: 100%|██████████| 6/6 [00:02<00:00,  2.47it/s, train_loss=0.246] \n"
     ]
    },
    {
     "name": "stdout",
     "output_type": "stream",
     "text": [
      "Epoch 24 | Val Loss: 0.3395 | Val Accuracy: 75.6192% | Val mIOU: 0.9991 | Val mF1: 0.0547\n"
     ]
    },
    {
     "name": "stderr",
     "output_type": "stream",
     "text": [
      "Epoch 25/150: 100%|██████████| 6/6 [00:02<00:00,  2.51it/s, train_loss=0.236] \n"
     ]
    },
    {
     "name": "stdout",
     "output_type": "stream",
     "text": [
      "Epoch 25 | Val Loss: 0.3332 | Val Accuracy: 75.4993% | Val mIOU: 0.9992 | Val mF1: 0.0571\n"
     ]
    },
    {
     "name": "stderr",
     "output_type": "stream",
     "text": [
      "Epoch 26/150: 100%|██████████| 6/6 [00:02<00:00,  2.48it/s, train_loss=0.229] \n"
     ]
    },
    {
     "name": "stdout",
     "output_type": "stream",
     "text": [
      "Epoch 26 | Val Loss: 0.3104 | Val Accuracy: 77.4073% | Val mIOU: 0.9992 | Val mF1: 0.0583\n"
     ]
    },
    {
     "name": "stderr",
     "output_type": "stream",
     "text": [
      "Epoch 27/150: 100%|██████████| 6/6 [00:02<00:00,  2.49it/s, train_loss=0.214] \n"
     ]
    },
    {
     "name": "stdout",
     "output_type": "stream",
     "text": [
      "Epoch 27 | Val Loss: 0.3224 | Val Accuracy: 76.7077% | Val mIOU: 0.9977 | Val mF1: 0.0589\n"
     ]
    },
    {
     "name": "stderr",
     "output_type": "stream",
     "text": [
      "Epoch 28/150: 100%|██████████| 6/6 [00:02<00:00,  2.46it/s, train_loss=0.201] \n"
     ]
    },
    {
     "name": "stdout",
     "output_type": "stream",
     "text": [
      "Epoch 28 | Val Loss: 0.2883 | Val Accuracy: 78.2541% | Val mIOU: 0.9993 | Val mF1: 0.0605\n"
     ]
    },
    {
     "name": "stderr",
     "output_type": "stream",
     "text": [
      "Epoch 29/150: 100%|██████████| 6/6 [00:02<00:00,  2.48it/s, train_loss=0.196] \n"
     ]
    },
    {
     "name": "stdout",
     "output_type": "stream",
     "text": [
      "Epoch 29 | Val Loss: 0.2953 | Val Accuracy: 77.9431% | Val mIOU: 0.9995 | Val mF1: 0.0617\n"
     ]
    },
    {
     "name": "stderr",
     "output_type": "stream",
     "text": [
      "Epoch 30/150: 100%|██████████| 6/6 [00:02<00:00,  2.48it/s, train_loss=0.193] \n"
     ]
    },
    {
     "name": "stdout",
     "output_type": "stream",
     "text": [
      "Epoch 30 | Val Loss: 0.3258 | Val Accuracy: 76.8507% | Val mIOU: 0.9996 | Val mF1: 0.0598\n"
     ]
    },
    {
     "name": "stderr",
     "output_type": "stream",
     "text": [
      "Epoch 31/150: 100%|██████████| 6/6 [00:02<00:00,  2.48it/s, train_loss=0.193] \n"
     ]
    },
    {
     "name": "stdout",
     "output_type": "stream",
     "text": [
      "Epoch 31 | Val Loss: 0.2813 | Val Accuracy: 77.8082% | Val mIOU: 0.9992 | Val mF1: 0.0631\n"
     ]
    },
    {
     "name": "stderr",
     "output_type": "stream",
     "text": [
      "Epoch 32/150: 100%|██████████| 6/6 [00:02<00:00,  2.47it/s, train_loss=0.174] \n"
     ]
    },
    {
     "name": "stdout",
     "output_type": "stream",
     "text": [
      "Epoch 32 | Val Loss: 0.2712 | Val Accuracy: 79.6766% | Val mIOU: 0.9997 | Val mF1: 0.0633\n"
     ]
    },
    {
     "name": "stderr",
     "output_type": "stream",
     "text": [
      "Epoch 33/150: 100%|██████████| 6/6 [00:02<00:00,  2.47it/s, train_loss=0.168] \n"
     ]
    },
    {
     "name": "stdout",
     "output_type": "stream",
     "text": [
      "Epoch 33 | Val Loss: 0.2599 | Val Accuracy: 81.0628% | Val mIOU: 0.9997 | Val mF1: 0.0640\n"
     ]
    },
    {
     "name": "stderr",
     "output_type": "stream",
     "text": [
      "Epoch 34/150: 100%|██████████| 6/6 [00:02<00:00,  2.45it/s, train_loss=0.163] \n"
     ]
    },
    {
     "name": "stdout",
     "output_type": "stream",
     "text": [
      "Epoch 34 | Val Loss: 0.2732 | Val Accuracy: 79.5426% | Val mIOU: 0.9998 | Val mF1: 0.0608\n"
     ]
    },
    {
     "name": "stderr",
     "output_type": "stream",
     "text": [
      "Epoch 35/150: 100%|██████████| 6/6 [00:02<00:00,  2.48it/s, train_loss=0.156] \n"
     ]
    },
    {
     "name": "stdout",
     "output_type": "stream",
     "text": [
      "Epoch 35 | Val Loss: 0.2749 | Val Accuracy: 78.7877% | Val mIOU: 0.9998 | Val mF1: 0.0627\n"
     ]
    },
    {
     "name": "stderr",
     "output_type": "stream",
     "text": [
      "Epoch 36/150: 100%|██████████| 6/6 [00:02<00:00,  2.47it/s, train_loss=0.151] \n"
     ]
    },
    {
     "name": "stdout",
     "output_type": "stream",
     "text": [
      "Epoch 36 | Val Loss: 0.2798 | Val Accuracy: 79.0090% | Val mIOU: 0.9998 | Val mF1: 0.0647\n"
     ]
    },
    {
     "name": "stderr",
     "output_type": "stream",
     "text": [
      "Epoch 37/150: 100%|██████████| 6/6 [00:02<00:00,  2.48it/s, train_loss=0.154] \n"
     ]
    },
    {
     "name": "stdout",
     "output_type": "stream",
     "text": [
      "Epoch 37 | Val Loss: 0.5734 | Val Accuracy: 66.0471% | Val mIOU: 0.9995 | Val mF1: 0.0541\n"
     ]
    },
    {
     "name": "stderr",
     "output_type": "stream",
     "text": [
      "Epoch 38/150: 100%|██████████| 6/6 [00:02<00:00,  2.47it/s, train_loss=0.16]  \n"
     ]
    },
    {
     "name": "stdout",
     "output_type": "stream",
     "text": [
      "Epoch 38 | Val Loss: 0.3231 | Val Accuracy: 77.0246% | Val mIOU: 0.9997 | Val mF1: 0.0624\n"
     ]
    },
    {
     "name": "stderr",
     "output_type": "stream",
     "text": [
      "Epoch 39/150: 100%|██████████| 6/6 [00:02<00:00,  2.47it/s, train_loss=0.154] \n"
     ]
    },
    {
     "name": "stdout",
     "output_type": "stream",
     "text": [
      "Epoch 39 | Val Loss: 0.2759 | Val Accuracy: 78.8593% | Val mIOU: 0.9997 | Val mF1: 0.0660\n"
     ]
    },
    {
     "name": "stderr",
     "output_type": "stream",
     "text": [
      "Epoch 40/150: 100%|██████████| 6/6 [00:02<00:00,  2.49it/s, train_loss=0.142] \n"
     ]
    },
    {
     "name": "stdout",
     "output_type": "stream",
     "text": [
      "Epoch 40 | Val Loss: 0.2511 | Val Accuracy: 80.4231% | Val mIOU: 0.9994 | Val mF1: 0.0705\n"
     ]
    },
    {
     "name": "stderr",
     "output_type": "stream",
     "text": [
      "Epoch 41/150: 100%|██████████| 6/6 [00:02<00:00,  2.46it/s, train_loss=0.136] \n"
     ]
    },
    {
     "name": "stdout",
     "output_type": "stream",
     "text": [
      "Epoch 41 | Val Loss: 0.2509 | Val Accuracy: 81.1837% | Val mIOU: 0.9997 | Val mF1: 0.0679\n"
     ]
    },
    {
     "name": "stderr",
     "output_type": "stream",
     "text": [
      "Epoch 42/150: 100%|██████████| 6/6 [00:02<00:00,  2.48it/s, train_loss=0.128] \n"
     ]
    },
    {
     "name": "stdout",
     "output_type": "stream",
     "text": [
      "Epoch 42 | Val Loss: 0.2278 | Val Accuracy: 81.5901% | Val mIOU: 0.9998 | Val mF1: 0.0687\n"
     ]
    },
    {
     "name": "stderr",
     "output_type": "stream",
     "text": [
      "Epoch 43/150: 100%|██████████| 6/6 [00:02<00:00,  2.50it/s, train_loss=0.12]  \n"
     ]
    },
    {
     "name": "stdout",
     "output_type": "stream",
     "text": [
      "Epoch 43 | Val Loss: 0.2291 | Val Accuracy: 82.9951% | Val mIOU: 0.9997 | Val mF1: 0.0692\n"
     ]
    },
    {
     "name": "stderr",
     "output_type": "stream",
     "text": [
      "Epoch 44/150: 100%|██████████| 6/6 [00:02<00:00,  2.48it/s, train_loss=0.116] \n"
     ]
    },
    {
     "name": "stdout",
     "output_type": "stream",
     "text": [
      "Epoch 44 | Val Loss: 0.2212 | Val Accuracy: 83.0456% | Val mIOU: 0.9997 | Val mF1: 0.0701\n"
     ]
    },
    {
     "name": "stderr",
     "output_type": "stream",
     "text": [
      "Epoch 45/150: 100%|██████████| 6/6 [00:02<00:00,  2.51it/s, train_loss=0.111] \n"
     ]
    },
    {
     "name": "stdout",
     "output_type": "stream",
     "text": [
      "Epoch 45 | Val Loss: 0.2506 | Val Accuracy: 81.6453% | Val mIOU: 0.9997 | Val mF1: 0.0690\n"
     ]
    },
    {
     "name": "stderr",
     "output_type": "stream",
     "text": [
      "Epoch 46/150: 100%|██████████| 6/6 [00:02<00:00,  2.46it/s, train_loss=0.109] \n"
     ]
    },
    {
     "name": "stdout",
     "output_type": "stream",
     "text": [
      "Epoch 46 | Val Loss: 0.2294 | Val Accuracy: 83.3424% | Val mIOU: 0.9997 | Val mF1: 0.0704\n"
     ]
    },
    {
     "name": "stderr",
     "output_type": "stream",
     "text": [
      "Epoch 47/150: 100%|██████████| 6/6 [00:02<00:00,  2.50it/s, train_loss=0.104] \n"
     ]
    },
    {
     "name": "stdout",
     "output_type": "stream",
     "text": [
      "Epoch 47 | Val Loss: 0.2152 | Val Accuracy: 84.3281% | Val mIOU: 0.9998 | Val mF1: 0.0708\n"
     ]
    },
    {
     "name": "stderr",
     "output_type": "stream",
     "text": [
      "Epoch 48/150: 100%|██████████| 6/6 [00:02<00:00,  2.47it/s, train_loss=0.0955]\n"
     ]
    },
    {
     "name": "stdout",
     "output_type": "stream",
     "text": [
      "Epoch 48 | Val Loss: 0.1989 | Val Accuracy: 84.7726% | Val mIOU: 0.9994 | Val mF1: 0.0749\n"
     ]
    },
    {
     "name": "stderr",
     "output_type": "stream",
     "text": [
      "Epoch 49/150: 100%|██████████| 6/6 [00:02<00:00,  2.49it/s, train_loss=0.095] \n"
     ]
    },
    {
     "name": "stdout",
     "output_type": "stream",
     "text": [
      "Epoch 49 | Val Loss: 0.2280 | Val Accuracy: 83.8989% | Val mIOU: 0.9996 | Val mF1: 0.0719\n"
     ]
    },
    {
     "name": "stderr",
     "output_type": "stream",
     "text": [
      "Epoch 50/150: 100%|██████████| 6/6 [00:02<00:00,  2.50it/s, train_loss=0.0884]\n"
     ]
    },
    {
     "name": "stdout",
     "output_type": "stream",
     "text": [
      "Epoch 50 | Val Loss: 0.2390 | Val Accuracy: 83.6115% | Val mIOU: 0.9998 | Val mF1: 0.0707\n"
     ]
    },
    {
     "name": "stderr",
     "output_type": "stream",
     "text": [
      "Epoch 51/150: 100%|██████████| 6/6 [00:02<00:00,  2.49it/s, train_loss=0.089] \n"
     ]
    },
    {
     "name": "stdout",
     "output_type": "stream",
     "text": [
      "Epoch 51 | Val Loss: 0.2069 | Val Accuracy: 85.1229% | Val mIOU: 0.9995 | Val mF1: 0.0709\n"
     ]
    },
    {
     "name": "stderr",
     "output_type": "stream",
     "text": [
      "Epoch 52/150: 100%|██████████| 6/6 [00:02<00:00,  2.47it/s, train_loss=0.0806]\n"
     ]
    },
    {
     "name": "stdout",
     "output_type": "stream",
     "text": [
      "Epoch 52 | Val Loss: 0.2103 | Val Accuracy: 85.0134% | Val mIOU: 0.9992 | Val mF1: 0.0757\n"
     ]
    },
    {
     "name": "stderr",
     "output_type": "stream",
     "text": [
      "Epoch 53/150: 100%|██████████| 6/6 [00:02<00:00,  2.50it/s, train_loss=0.0818]\n"
     ]
    },
    {
     "name": "stdout",
     "output_type": "stream",
     "text": [
      "Epoch 53 | Val Loss: 0.2269 | Val Accuracy: 84.6476% | Val mIOU: 0.9997 | Val mF1: 0.0745\n"
     ]
    },
    {
     "name": "stderr",
     "output_type": "stream",
     "text": [
      "Epoch 54/150: 100%|██████████| 6/6 [00:02<00:00,  2.49it/s, train_loss=0.0803]\n"
     ]
    },
    {
     "name": "stdout",
     "output_type": "stream",
     "text": [
      "Epoch 54 | Val Loss: 0.2135 | Val Accuracy: 84.7456% | Val mIOU: 0.9996 | Val mF1: 0.0782\n"
     ]
    },
    {
     "name": "stderr",
     "output_type": "stream",
     "text": [
      "Epoch 55/150: 100%|██████████| 6/6 [00:02<00:00,  2.50it/s, train_loss=0.0823]\n"
     ]
    },
    {
     "name": "stdout",
     "output_type": "stream",
     "text": [
      "Epoch 55 | Val Loss: 0.1889 | Val Accuracy: 85.4536% | Val mIOU: 0.9997 | Val mF1: 0.0799\n"
     ]
    },
    {
     "name": "stderr",
     "output_type": "stream",
     "text": [
      "Epoch 56/150: 100%|██████████| 6/6 [00:02<00:00,  2.49it/s, train_loss=0.0793]\n"
     ]
    },
    {
     "name": "stdout",
     "output_type": "stream",
     "text": [
      "Epoch 56 | Val Loss: 0.2146 | Val Accuracy: 85.2814% | Val mIOU: 0.9998 | Val mF1: 0.0732\n"
     ]
    },
    {
     "name": "stderr",
     "output_type": "stream",
     "text": [
      "Epoch 57/150: 100%|██████████| 6/6 [00:02<00:00,  2.48it/s, train_loss=0.0783]\n"
     ]
    },
    {
     "name": "stdout",
     "output_type": "stream",
     "text": [
      "Epoch 57 | Val Loss: 0.1897 | Val Accuracy: 86.5175% | Val mIOU: 0.9998 | Val mF1: 0.0754\n"
     ]
    },
    {
     "name": "stderr",
     "output_type": "stream",
     "text": [
      "Epoch 58/150: 100%|██████████| 6/6 [00:02<00:00,  2.46it/s, train_loss=0.0732]\n"
     ]
    },
    {
     "name": "stdout",
     "output_type": "stream",
     "text": [
      "Epoch 58 | Val Loss: 0.2566 | Val Accuracy: 84.0544% | Val mIOU: 0.9998 | Val mF1: 0.0736\n"
     ]
    },
    {
     "name": "stderr",
     "output_type": "stream",
     "text": [
      "Epoch 59/150: 100%|██████████| 6/6 [00:02<00:00,  2.47it/s, train_loss=0.0767]\n"
     ]
    },
    {
     "name": "stdout",
     "output_type": "stream",
     "text": [
      "Epoch 59 | Val Loss: 0.1772 | Val Accuracy: 86.5376% | Val mIOU: 0.9998 | Val mF1: 0.0770\n"
     ]
    },
    {
     "name": "stderr",
     "output_type": "stream",
     "text": [
      "Epoch 60/150: 100%|██████████| 6/6 [00:02<00:00,  2.49it/s, train_loss=0.072] \n"
     ]
    },
    {
     "name": "stdout",
     "output_type": "stream",
     "text": [
      "Epoch 60 | Val Loss: 0.2172 | Val Accuracy: 86.0108% | Val mIOU: 0.9998 | Val mF1: 0.0786\n"
     ]
    },
    {
     "name": "stderr",
     "output_type": "stream",
     "text": [
      "Epoch 61/150: 100%|██████████| 6/6 [00:02<00:00,  2.49it/s, train_loss=0.0691]\n"
     ]
    },
    {
     "name": "stdout",
     "output_type": "stream",
     "text": [
      "Epoch 61 | Val Loss: 0.2182 | Val Accuracy: 85.8294% | Val mIOU: 0.9996 | Val mF1: 0.0822\n"
     ]
    },
    {
     "name": "stderr",
     "output_type": "stream",
     "text": [
      "Epoch 62/150: 100%|██████████| 6/6 [00:02<00:00,  2.48it/s, train_loss=0.0671]\n"
     ]
    },
    {
     "name": "stdout",
     "output_type": "stream",
     "text": [
      "Epoch 62 | Val Loss: 0.2117 | Val Accuracy: 85.9838% | Val mIOU: 0.9998 | Val mF1: 0.0777\n"
     ]
    },
    {
     "name": "stderr",
     "output_type": "stream",
     "text": [
      "Epoch 63/150: 100%|██████████| 6/6 [00:02<00:00,  2.49it/s, train_loss=0.0637]\n"
     ]
    },
    {
     "name": "stdout",
     "output_type": "stream",
     "text": [
      "Epoch 63 | Val Loss: 0.2011 | Val Accuracy: 86.4754% | Val mIOU: 0.9998 | Val mF1: 0.0776\n"
     ]
    },
    {
     "name": "stderr",
     "output_type": "stream",
     "text": [
      "Epoch 64/150: 100%|██████████| 6/6 [00:02<00:00,  2.47it/s, train_loss=0.0608]\n"
     ]
    },
    {
     "name": "stdout",
     "output_type": "stream",
     "text": [
      "Epoch 64 | Val Loss: 0.1989 | Val Accuracy: 87.2853% | Val mIOU: 0.9996 | Val mF1: 0.0811\n"
     ]
    },
    {
     "name": "stderr",
     "output_type": "stream",
     "text": [
      "Epoch 65/150: 100%|██████████| 6/6 [00:02<00:00,  2.47it/s, train_loss=0.06]   \n"
     ]
    },
    {
     "name": "stdout",
     "output_type": "stream",
     "text": [
      "Epoch 65 | Val Loss: 0.1914 | Val Accuracy: 87.6134% | Val mIOU: 0.9996 | Val mF1: 0.0784\n"
     ]
    },
    {
     "name": "stderr",
     "output_type": "stream",
     "text": [
      "Epoch 66/150: 100%|██████████| 6/6 [00:02<00:00,  2.49it/s, train_loss=0.0544] \n"
     ]
    },
    {
     "name": "stdout",
     "output_type": "stream",
     "text": [
      "Epoch 66 | Val Loss: 0.1676 | Val Accuracy: 88.2483% | Val mIOU: 0.9998 | Val mF1: 0.0835\n"
     ]
    },
    {
     "name": "stderr",
     "output_type": "stream",
     "text": [
      "Epoch 67/150: 100%|██████████| 6/6 [00:02<00:00,  2.47it/s, train_loss=0.0556]\n"
     ]
    },
    {
     "name": "stdout",
     "output_type": "stream",
     "text": [
      "Epoch 67 | Val Loss: 0.1981 | Val Accuracy: 87.4896% | Val mIOU: 0.9997 | Val mF1: 0.0854\n"
     ]
    },
    {
     "name": "stderr",
     "output_type": "stream",
     "text": [
      "Epoch 68/150: 100%|██████████| 6/6 [00:02<00:00,  2.48it/s, train_loss=0.0515] \n"
     ]
    },
    {
     "name": "stdout",
     "output_type": "stream",
     "text": [
      "Epoch 68 | Val Loss: 0.1856 | Val Accuracy: 87.9805% | Val mIOU: 0.9996 | Val mF1: 0.0863\n"
     ]
    },
    {
     "name": "stderr",
     "output_type": "stream",
     "text": [
      "Epoch 69/150: 100%|██████████| 6/6 [00:02<00:00,  2.47it/s, train_loss=0.0497] \n"
     ]
    },
    {
     "name": "stdout",
     "output_type": "stream",
     "text": [
      "Epoch 69 | Val Loss: 0.1749 | Val Accuracy: 88.5325% | Val mIOU: 0.9998 | Val mF1: 0.0867\n"
     ]
    },
    {
     "name": "stderr",
     "output_type": "stream",
     "text": [
      "Epoch 70/150: 100%|██████████| 6/6 [00:02<00:00,  2.45it/s, train_loss=0.0459] \n"
     ]
    },
    {
     "name": "stdout",
     "output_type": "stream",
     "text": [
      "Epoch 70 | Val Loss: 0.1924 | Val Accuracy: 88.2885% | Val mIOU: 0.9998 | Val mF1: 0.0861\n"
     ]
    },
    {
     "name": "stderr",
     "output_type": "stream",
     "text": [
      "Epoch 71/150: 100%|██████████| 6/6 [00:02<00:00,  2.48it/s, train_loss=0.0464] \n"
     ]
    },
    {
     "name": "stdout",
     "output_type": "stream",
     "text": [
      "Epoch 71 | Val Loss: 0.1550 | Val Accuracy: 89.4969% | Val mIOU: 0.9999 | Val mF1: 0.0875\n"
     ]
    },
    {
     "name": "stderr",
     "output_type": "stream",
     "text": [
      "Epoch 72/150: 100%|██████████| 6/6 [00:02<00:00,  2.46it/s, train_loss=0.0438] \n"
     ]
    },
    {
     "name": "stdout",
     "output_type": "stream",
     "text": [
      "Epoch 72 | Val Loss: 0.1857 | Val Accuracy: 87.9986% | Val mIOU: 0.9998 | Val mF1: 0.0799\n"
     ]
    },
    {
     "name": "stderr",
     "output_type": "stream",
     "text": [
      "Epoch 73/150: 100%|██████████| 6/6 [00:02<00:00,  2.48it/s, train_loss=0.0419] \n"
     ]
    },
    {
     "name": "stdout",
     "output_type": "stream",
     "text": [
      "Epoch 73 | Val Loss: 0.1651 | Val Accuracy: 89.5658% | Val mIOU: 0.9998 | Val mF1: 0.0911\n"
     ]
    },
    {
     "name": "stderr",
     "output_type": "stream",
     "text": [
      "Epoch 74/150: 100%|██████████| 6/6 [00:02<00:00,  2.46it/s, train_loss=0.0394] \n"
     ]
    },
    {
     "name": "stdout",
     "output_type": "stream",
     "text": [
      "Epoch 74 | Val Loss: 0.1604 | Val Accuracy: 89.4765% | Val mIOU: 0.9998 | Val mF1: 0.0853\n"
     ]
    },
    {
     "name": "stderr",
     "output_type": "stream",
     "text": [
      "Epoch 75/150: 100%|██████████| 6/6 [00:02<00:00,  2.47it/s, train_loss=0.0388]\n"
     ]
    },
    {
     "name": "stdout",
     "output_type": "stream",
     "text": [
      "Epoch 75 | Val Loss: 0.1706 | Val Accuracy: 89.4934% | Val mIOU: 0.9999 | Val mF1: 0.0881\n"
     ]
    },
    {
     "name": "stderr",
     "output_type": "stream",
     "text": [
      "Epoch 76/150: 100%|██████████| 6/6 [00:02<00:00,  2.47it/s, train_loss=0.0392] \n"
     ]
    },
    {
     "name": "stdout",
     "output_type": "stream",
     "text": [
      "Epoch 76 | Val Loss: 0.1688 | Val Accuracy: 89.1564% | Val mIOU: 0.9998 | Val mF1: 0.0826\n"
     ]
    },
    {
     "name": "stderr",
     "output_type": "stream",
     "text": [
      "Epoch 77/150: 100%|██████████| 6/6 [00:02<00:00,  2.48it/s, train_loss=0.0365] \n"
     ]
    },
    {
     "name": "stdout",
     "output_type": "stream",
     "text": [
      "Epoch 77 | Val Loss: 0.1751 | Val Accuracy: 89.4274% | Val mIOU: 0.9998 | Val mF1: 0.0863\n"
     ]
    },
    {
     "name": "stderr",
     "output_type": "stream",
     "text": [
      "Epoch 78/150: 100%|██████████| 6/6 [00:02<00:00,  2.44it/s, train_loss=0.0349]\n"
     ]
    },
    {
     "name": "stdout",
     "output_type": "stream",
     "text": [
      "Epoch 78 | Val Loss: 0.1451 | Val Accuracy: 90.4082% | Val mIOU: 0.9997 | Val mF1: 0.0909\n"
     ]
    },
    {
     "name": "stderr",
     "output_type": "stream",
     "text": [
      "Epoch 79/150: 100%|██████████| 6/6 [00:02<00:00,  2.46it/s, train_loss=0.0342]\n"
     ]
    },
    {
     "name": "stdout",
     "output_type": "stream",
     "text": [
      "Epoch 79 | Val Loss: 0.1691 | Val Accuracy: 89.7237% | Val mIOU: 0.9998 | Val mF1: 0.0921\n"
     ]
    },
    {
     "name": "stderr",
     "output_type": "stream",
     "text": [
      "Epoch 80/150: 100%|██████████| 6/6 [00:02<00:00,  2.49it/s, train_loss=0.0343] \n"
     ]
    },
    {
     "name": "stdout",
     "output_type": "stream",
     "text": [
      "Epoch 80 | Val Loss: 0.1713 | Val Accuracy: 89.8548% | Val mIOU: 0.9998 | Val mF1: 0.0911\n"
     ]
    },
    {
     "name": "stderr",
     "output_type": "stream",
     "text": [
      "Epoch 81/150: 100%|██████████| 6/6 [00:02<00:00,  2.48it/s, train_loss=0.0326] \n"
     ]
    },
    {
     "name": "stdout",
     "output_type": "stream",
     "text": [
      "Epoch 81 | Val Loss: 0.1668 | Val Accuracy: 89.9906% | Val mIOU: 0.9997 | Val mF1: 0.0898\n"
     ]
    },
    {
     "name": "stderr",
     "output_type": "stream",
     "text": [
      "Epoch 82/150: 100%|██████████| 6/6 [00:02<00:00,  2.49it/s, train_loss=0.0341] \n"
     ]
    },
    {
     "name": "stdout",
     "output_type": "stream",
     "text": [
      "Epoch 82 | Val Loss: 0.1559 | Val Accuracy: 90.6325% | Val mIOU: 0.9999 | Val mF1: 0.0874\n"
     ]
    },
    {
     "name": "stderr",
     "output_type": "stream",
     "text": [
      "Epoch 83/150: 100%|██████████| 6/6 [00:02<00:00,  2.47it/s, train_loss=0.0321] \n"
     ]
    },
    {
     "name": "stdout",
     "output_type": "stream",
     "text": [
      "Epoch 83 | Val Loss: 0.1666 | Val Accuracy: 89.6360% | Val mIOU: 0.9998 | Val mF1: 0.0919\n"
     ]
    },
    {
     "name": "stderr",
     "output_type": "stream",
     "text": [
      "Epoch 84/150: 100%|██████████| 6/6 [00:02<00:00,  2.48it/s, train_loss=0.0347] \n"
     ]
    },
    {
     "name": "stdout",
     "output_type": "stream",
     "text": [
      "Epoch 84 | Val Loss: 0.2077 | Val Accuracy: 87.0235% | Val mIOU: 0.9998 | Val mF1: 0.0816\n"
     ]
    },
    {
     "name": "stderr",
     "output_type": "stream",
     "text": [
      "Epoch 85/150: 100%|██████████| 6/6 [00:02<00:00,  2.48it/s, train_loss=0.0335] \n"
     ]
    },
    {
     "name": "stdout",
     "output_type": "stream",
     "text": [
      "Epoch 85 | Val Loss: 0.2187 | Val Accuracy: 88.4259% | Val mIOU: 0.9998 | Val mF1: 0.0850\n"
     ]
    },
    {
     "name": "stderr",
     "output_type": "stream",
     "text": [
      "Epoch 86/150: 100%|██████████| 6/6 [00:02<00:00,  2.50it/s, train_loss=0.0334] \n"
     ]
    },
    {
     "name": "stdout",
     "output_type": "stream",
     "text": [
      "Epoch 86 | Val Loss: 0.1685 | Val Accuracy: 89.4919% | Val mIOU: 0.9997 | Val mF1: 0.0924\n"
     ]
    },
    {
     "name": "stderr",
     "output_type": "stream",
     "text": [
      "Epoch 87/150: 100%|██████████| 6/6 [00:02<00:00,  2.47it/s, train_loss=0.0318] \n"
     ]
    },
    {
     "name": "stdout",
     "output_type": "stream",
     "text": [
      "Epoch 87 | Val Loss: 0.1671 | Val Accuracy: 89.8907% | Val mIOU: 0.9997 | Val mF1: 0.0918\n"
     ]
    },
    {
     "name": "stderr",
     "output_type": "stream",
     "text": [
      "Epoch 88/150: 100%|██████████| 6/6 [00:02<00:00,  2.48it/s, train_loss=0.0286] \n"
     ]
    },
    {
     "name": "stdout",
     "output_type": "stream",
     "text": [
      "Epoch 88 | Val Loss: 0.1493 | Val Accuracy: 90.6682% | Val mIOU: 0.9999 | Val mF1: 0.0897\n"
     ]
    },
    {
     "name": "stderr",
     "output_type": "stream",
     "text": [
      "Epoch 89/150: 100%|██████████| 6/6 [00:02<00:00,  2.49it/s, train_loss=0.0281] \n"
     ]
    },
    {
     "name": "stdout",
     "output_type": "stream",
     "text": [
      "Epoch 89 | Val Loss: 0.1557 | Val Accuracy: 91.0847% | Val mIOU: 0.9999 | Val mF1: 0.0910\n"
     ]
    },
    {
     "name": "stderr",
     "output_type": "stream",
     "text": [
      "Epoch 90/150: 100%|██████████| 6/6 [00:02<00:00,  2.49it/s, train_loss=0.0267] \n"
     ]
    },
    {
     "name": "stdout",
     "output_type": "stream",
     "text": [
      "Epoch 90 | Val Loss: 0.1683 | Val Accuracy: 90.2530% | Val mIOU: 0.9999 | Val mF1: 0.0935\n"
     ]
    },
    {
     "name": "stderr",
     "output_type": "stream",
     "text": [
      "Epoch 91/150: 100%|██████████| 6/6 [00:02<00:00,  2.45it/s, train_loss=0.0242] \n"
     ]
    },
    {
     "name": "stdout",
     "output_type": "stream",
     "text": [
      "Epoch 91 | Val Loss: 0.1824 | Val Accuracy: 90.2341% | Val mIOU: 0.9999 | Val mF1: 0.0902\n"
     ]
    },
    {
     "name": "stderr",
     "output_type": "stream",
     "text": [
      "Epoch 92/150: 100%|██████████| 6/6 [00:02<00:00,  2.50it/s, train_loss=0.0241] \n"
     ]
    },
    {
     "name": "stdout",
     "output_type": "stream",
     "text": [
      "Epoch 92 | Val Loss: 0.1544 | Val Accuracy: 91.1510% | Val mIOU: 0.9999 | Val mF1: 0.0900\n"
     ]
    },
    {
     "name": "stderr",
     "output_type": "stream",
     "text": [
      "Epoch 93/150: 100%|██████████| 6/6 [00:02<00:00,  2.50it/s, train_loss=0.0233] \n"
     ]
    },
    {
     "name": "stdout",
     "output_type": "stream",
     "text": [
      "Epoch 93 | Val Loss: 0.1610 | Val Accuracy: 90.4462% | Val mIOU: 0.9999 | Val mF1: 0.0915\n"
     ]
    },
    {
     "name": "stderr",
     "output_type": "stream",
     "text": [
      "Epoch 94/150: 100%|██████████| 6/6 [00:02<00:00,  2.47it/s, train_loss=0.0225] \n"
     ]
    },
    {
     "name": "stdout",
     "output_type": "stream",
     "text": [
      "Epoch 94 | Val Loss: 0.1651 | Val Accuracy: 90.7705% | Val mIOU: 0.9999 | Val mF1: 0.0914\n"
     ]
    },
    {
     "name": "stderr",
     "output_type": "stream",
     "text": [
      "Epoch 95/150: 100%|██████████| 6/6 [00:02<00:00,  2.47it/s, train_loss=0.0221] \n"
     ]
    },
    {
     "name": "stdout",
     "output_type": "stream",
     "text": [
      "Epoch 95 | Val Loss: 0.1915 | Val Accuracy: 90.0611% | Val mIOU: 0.9999 | Val mF1: 0.0864\n"
     ]
    },
    {
     "name": "stderr",
     "output_type": "stream",
     "text": [
      "Epoch 96/150: 100%|██████████| 6/6 [00:02<00:00,  2.48it/s, train_loss=0.0217] \n"
     ]
    },
    {
     "name": "stdout",
     "output_type": "stream",
     "text": [
      "Epoch 96 | Val Loss: 0.1510 | Val Accuracy: 91.4494% | Val mIOU: 0.9999 | Val mF1: 0.0920\n"
     ]
    },
    {
     "name": "stderr",
     "output_type": "stream",
     "text": [
      "Epoch 97/150: 100%|██████████| 6/6 [00:02<00:00,  2.45it/s, train_loss=0.021]  \n"
     ]
    },
    {
     "name": "stdout",
     "output_type": "stream",
     "text": [
      "Epoch 97 | Val Loss: 0.1971 | Val Accuracy: 90.2301% | Val mIOU: 0.9998 | Val mF1: 0.0841\n"
     ]
    },
    {
     "name": "stderr",
     "output_type": "stream",
     "text": [
      "Epoch 98/150: 100%|██████████| 6/6 [00:02<00:00,  2.45it/s, train_loss=0.0209] \n"
     ]
    },
    {
     "name": "stdout",
     "output_type": "stream",
     "text": [
      "Epoch 98 | Val Loss: 0.1844 | Val Accuracy: 90.0028% | Val mIOU: 0.9999 | Val mF1: 0.0898\n"
     ]
    },
    {
     "name": "stderr",
     "output_type": "stream",
     "text": [
      "Epoch 99/150: 100%|██████████| 6/6 [00:02<00:00,  2.47it/s, train_loss=0.0206] \n"
     ]
    },
    {
     "name": "stdout",
     "output_type": "stream",
     "text": [
      "Epoch 99 | Val Loss: 0.1932 | Val Accuracy: 90.1289% | Val mIOU: 0.9997 | Val mF1: 0.0935\n"
     ]
    },
    {
     "name": "stderr",
     "output_type": "stream",
     "text": [
      "Epoch 100/150: 100%|██████████| 6/6 [00:02<00:00,  2.46it/s, train_loss=0.0201] \n"
     ]
    },
    {
     "name": "stdout",
     "output_type": "stream",
     "text": [
      "Epoch 100 | Val Loss: 0.1788 | Val Accuracy: 90.7476% | Val mIOU: 0.9998 | Val mF1: 0.0894\n"
     ]
    },
    {
     "name": "stderr",
     "output_type": "stream",
     "text": [
      "Epoch 101/150: 100%|██████████| 6/6 [00:02<00:00,  2.45it/s, train_loss=0.0189] \n"
     ]
    },
    {
     "name": "stdout",
     "output_type": "stream",
     "text": [
      "Epoch 101 | Val Loss: 0.2066 | Val Accuracy: 89.9993% | Val mIOU: 0.9998 | Val mF1: 0.0929\n"
     ]
    },
    {
     "name": "stderr",
     "output_type": "stream",
     "text": [
      "Epoch 102/150: 100%|██████████| 6/6 [00:02<00:00,  2.47it/s, train_loss=0.0196] \n"
     ]
    },
    {
     "name": "stdout",
     "output_type": "stream",
     "text": [
      "Epoch 102 | Val Loss: 0.1784 | Val Accuracy: 91.0414% | Val mIOU: 0.9999 | Val mF1: 0.0913\n"
     ]
    },
    {
     "name": "stderr",
     "output_type": "stream",
     "text": [
      "Epoch 103/150: 100%|██████████| 6/6 [00:02<00:00,  2.47it/s, train_loss=0.0178] \n"
     ]
    },
    {
     "name": "stdout",
     "output_type": "stream",
     "text": [
      "Epoch 103 | Val Loss: 0.1533 | Val Accuracy: 91.6545% | Val mIOU: 0.9998 | Val mF1: 0.0953\n"
     ]
    },
    {
     "name": "stderr",
     "output_type": "stream",
     "text": [
      "Epoch 104/150: 100%|██████████| 6/6 [00:02<00:00,  2.49it/s, train_loss=0.0176] \n"
     ]
    },
    {
     "name": "stdout",
     "output_type": "stream",
     "text": [
      "Epoch 104 | Val Loss: 0.1989 | Val Accuracy: 90.6017% | Val mIOU: 0.9999 | Val mF1: 0.0904\n"
     ]
    },
    {
     "name": "stderr",
     "output_type": "stream",
     "text": [
      "Epoch 105/150: 100%|██████████| 6/6 [00:02<00:00,  2.46it/s, train_loss=0.0181] \n"
     ]
    },
    {
     "name": "stdout",
     "output_type": "stream",
     "text": [
      "Epoch 105 | Val Loss: 0.2277 | Val Accuracy: 89.5697% | Val mIOU: 0.9999 | Val mF1: 0.0865\n"
     ]
    },
    {
     "name": "stderr",
     "output_type": "stream",
     "text": [
      "Epoch 106/150: 100%|██████████| 6/6 [00:02<00:00,  2.47it/s, train_loss=0.0169] \n"
     ]
    },
    {
     "name": "stdout",
     "output_type": "stream",
     "text": [
      "Epoch 106 | Val Loss: 0.1750 | Val Accuracy: 90.8107% | Val mIOU: 0.9999 | Val mF1: 0.0888\n"
     ]
    },
    {
     "name": "stderr",
     "output_type": "stream",
     "text": [
      "Epoch 107/150: 100%|██████████| 6/6 [00:02<00:00,  2.46it/s, train_loss=0.0166] \n"
     ]
    },
    {
     "name": "stdout",
     "output_type": "stream",
     "text": [
      "Epoch 107 | Val Loss: 0.1356 | Val Accuracy: 92.5671% | Val mIOU: 0.9998 | Val mF1: 0.0964\n"
     ]
    },
    {
     "name": "stderr",
     "output_type": "stream",
     "text": [
      "Epoch 108/150: 100%|██████████| 6/6 [00:02<00:00,  2.48it/s, train_loss=0.0167] \n"
     ]
    },
    {
     "name": "stdout",
     "output_type": "stream",
     "text": [
      "Epoch 108 | Val Loss: 0.1949 | Val Accuracy: 90.4063% | Val mIOU: 0.9999 | Val mF1: 0.0917\n"
     ]
    },
    {
     "name": "stderr",
     "output_type": "stream",
     "text": [
      "Epoch 109/150: 100%|██████████| 6/6 [00:02<00:00,  2.47it/s, train_loss=0.016]  \n"
     ]
    },
    {
     "name": "stdout",
     "output_type": "stream",
     "text": [
      "Epoch 109 | Val Loss: 0.1434 | Val Accuracy: 92.1475% | Val mIOU: 0.9999 | Val mF1: 0.0909\n"
     ]
    },
    {
     "name": "stderr",
     "output_type": "stream",
     "text": [
      "Epoch 110/150: 100%|██████████| 6/6 [00:02<00:00,  2.50it/s, train_loss=0.0169] \n"
     ]
    },
    {
     "name": "stdout",
     "output_type": "stream",
     "text": [
      "Epoch 110 | Val Loss: 0.1408 | Val Accuracy: 92.3396% | Val mIOU: 0.9999 | Val mF1: 0.0967\n"
     ]
    },
    {
     "name": "stderr",
     "output_type": "stream",
     "text": [
      "Epoch 111/150: 100%|██████████| 6/6 [00:02<00:00,  2.49it/s, train_loss=0.0156] \n"
     ]
    },
    {
     "name": "stdout",
     "output_type": "stream",
     "text": [
      "Epoch 111 | Val Loss: 0.1640 | Val Accuracy: 91.8343% | Val mIOU: 0.9999 | Val mF1: 0.0902\n"
     ]
    },
    {
     "name": "stderr",
     "output_type": "stream",
     "text": [
      "Epoch 112/150: 100%|██████████| 6/6 [00:02<00:00,  2.46it/s, train_loss=0.0151] \n"
     ]
    },
    {
     "name": "stdout",
     "output_type": "stream",
     "text": [
      "Epoch 112 | Val Loss: 0.1763 | Val Accuracy: 91.3612% | Val mIOU: 0.9999 | Val mF1: 0.0928\n"
     ]
    },
    {
     "name": "stderr",
     "output_type": "stream",
     "text": [
      "Epoch 113/150: 100%|██████████| 6/6 [00:02<00:00,  2.46it/s, train_loss=0.0146] \n"
     ]
    },
    {
     "name": "stdout",
     "output_type": "stream",
     "text": [
      "Epoch 113 | Val Loss: 0.1813 | Val Accuracy: 91.2269% | Val mIOU: 0.9998 | Val mF1: 0.0919\n"
     ]
    },
    {
     "name": "stderr",
     "output_type": "stream",
     "text": [
      "Epoch 114/150: 100%|██████████| 6/6 [00:02<00:00,  2.47it/s, train_loss=0.0138] \n"
     ]
    },
    {
     "name": "stdout",
     "output_type": "stream",
     "text": [
      "Epoch 114 | Val Loss: 0.2095 | Val Accuracy: 90.4514% | Val mIOU: 0.9998 | Val mF1: 0.0922\n"
     ]
    },
    {
     "name": "stderr",
     "output_type": "stream",
     "text": [
      "Epoch 115/150: 100%|██████████| 6/6 [00:02<00:00,  2.48it/s, train_loss=0.0133] \n"
     ]
    },
    {
     "name": "stdout",
     "output_type": "stream",
     "text": [
      "Epoch 115 | Val Loss: 0.1509 | Val Accuracy: 92.5808% | Val mIOU: 0.9999 | Val mF1: 0.0898\n"
     ]
    },
    {
     "name": "stderr",
     "output_type": "stream",
     "text": [
      "Epoch 116/150: 100%|██████████| 6/6 [00:02<00:00,  2.47it/s, train_loss=0.0135] \n"
     ]
    },
    {
     "name": "stdout",
     "output_type": "stream",
     "text": [
      "Epoch 116 | Val Loss: 0.1428 | Val Accuracy: 92.6174% | Val mIOU: 0.9999 | Val mF1: 0.0986\n"
     ]
    },
    {
     "name": "stderr",
     "output_type": "stream",
     "text": [
      "Epoch 117/150: 100%|██████████| 6/6 [00:02<00:00,  2.46it/s, train_loss=0.0127] \n"
     ]
    },
    {
     "name": "stdout",
     "output_type": "stream",
     "text": [
      "Epoch 117 | Val Loss: 0.1804 | Val Accuracy: 91.6514% | Val mIOU: 0.9999 | Val mF1: 0.0896\n"
     ]
    },
    {
     "name": "stderr",
     "output_type": "stream",
     "text": [
      "Epoch 118/150: 100%|██████████| 6/6 [00:02<00:00,  2.46it/s, train_loss=0.0126] \n"
     ]
    },
    {
     "name": "stdout",
     "output_type": "stream",
     "text": [
      "Epoch 118 | Val Loss: 0.1759 | Val Accuracy: 91.8394% | Val mIOU: 0.9999 | Val mF1: 0.0953\n"
     ]
    },
    {
     "name": "stderr",
     "output_type": "stream",
     "text": [
      "Epoch 119/150: 100%|██████████| 6/6 [00:02<00:00,  2.47it/s, train_loss=0.0135] \n"
     ]
    },
    {
     "name": "stdout",
     "output_type": "stream",
     "text": [
      "Epoch 119 | Val Loss: 0.1678 | Val Accuracy: 92.1808% | Val mIOU: 0.9999 | Val mF1: 0.0915\n"
     ]
    },
    {
     "name": "stderr",
     "output_type": "stream",
     "text": [
      "Epoch 120/150: 100%|██████████| 6/6 [00:02<00:00,  2.47it/s, train_loss=0.0159] \n"
     ]
    },
    {
     "name": "stdout",
     "output_type": "stream",
     "text": [
      "Epoch 120 | Val Loss: 0.1481 | Val Accuracy: 92.0755% | Val mIOU: 0.9999 | Val mF1: 0.0964\n"
     ]
    },
    {
     "name": "stderr",
     "output_type": "stream",
     "text": [
      "Epoch 121/150: 100%|██████████| 6/6 [00:03<00:00,  1.72it/s, train_loss=0.0178] \n"
     ]
    },
    {
     "name": "stdout",
     "output_type": "stream",
     "text": [
      "Epoch 121 | Val Loss: 0.1660 | Val Accuracy: 91.0746% | Val mIOU: 0.9999 | Val mF1: 0.0893\n"
     ]
    },
    {
     "name": "stderr",
     "output_type": "stream",
     "text": [
      "Epoch 122/150: 100%|██████████| 6/6 [00:02<00:00,  2.10it/s, train_loss=0.0159] \n"
     ]
    },
    {
     "name": "stdout",
     "output_type": "stream",
     "text": [
      "Epoch 122 | Val Loss: 0.1732 | Val Accuracy: 91.3151% | Val mIOU: 0.9998 | Val mF1: 0.0908\n"
     ]
    },
    {
     "name": "stderr",
     "output_type": "stream",
     "text": [
      "Epoch 123/150: 100%|██████████| 6/6 [00:02<00:00,  2.48it/s, train_loss=0.0161] \n"
     ]
    },
    {
     "name": "stdout",
     "output_type": "stream",
     "text": [
      "Epoch 123 | Val Loss: 0.2187 | Val Accuracy: 89.9309% | Val mIOU: 0.9998 | Val mF1: 0.0879\n"
     ]
    },
    {
     "name": "stderr",
     "output_type": "stream",
     "text": [
      "Epoch 124/150: 100%|██████████| 6/6 [00:02<00:00,  2.46it/s, train_loss=0.0148] \n"
     ]
    },
    {
     "name": "stdout",
     "output_type": "stream",
     "text": [
      "Epoch 124 | Val Loss: 0.1683 | Val Accuracy: 91.4060% | Val mIOU: 0.9999 | Val mF1: 0.0919\n"
     ]
    },
    {
     "name": "stderr",
     "output_type": "stream",
     "text": [
      "Epoch 125/150: 100%|██████████| 6/6 [00:02<00:00,  2.48it/s, train_loss=0.0139] \n"
     ]
    },
    {
     "name": "stdout",
     "output_type": "stream",
     "text": [
      "Epoch 125 | Val Loss: 0.1627 | Val Accuracy: 92.0347% | Val mIOU: 0.9998 | Val mF1: 0.0970\n"
     ]
    },
    {
     "name": "stderr",
     "output_type": "stream",
     "text": [
      "Epoch 126/150: 100%|██████████| 6/6 [00:02<00:00,  2.47it/s, train_loss=0.0132] \n"
     ]
    },
    {
     "name": "stdout",
     "output_type": "stream",
     "text": [
      "Epoch 126 | Val Loss: 0.1493 | Val Accuracy: 92.4244% | Val mIOU: 0.9998 | Val mF1: 0.0985\n"
     ]
    },
    {
     "name": "stderr",
     "output_type": "stream",
     "text": [
      "Epoch 127/150: 100%|██████████| 6/6 [00:02<00:00,  2.47it/s, train_loss=0.0129] \n"
     ]
    },
    {
     "name": "stdout",
     "output_type": "stream",
     "text": [
      "Epoch 127 | Val Loss: 0.1417 | Val Accuracy: 92.7552% | Val mIOU: 0.9998 | Val mF1: 0.0944\n"
     ]
    },
    {
     "name": "stderr",
     "output_type": "stream",
     "text": [
      "Epoch 128/150: 100%|██████████| 6/6 [00:02<00:00,  2.48it/s, train_loss=0.012]  \n"
     ]
    },
    {
     "name": "stdout",
     "output_type": "stream",
     "text": [
      "Epoch 128 | Val Loss: 0.1799 | Val Accuracy: 91.7324% | Val mIOU: 0.9999 | Val mF1: 0.0930\n"
     ]
    },
    {
     "name": "stderr",
     "output_type": "stream",
     "text": [
      "Epoch 129/150: 100%|██████████| 6/6 [00:02<00:00,  2.46it/s, train_loss=0.0116] \n"
     ]
    },
    {
     "name": "stdout",
     "output_type": "stream",
     "text": [
      "Epoch 129 | Val Loss: 0.1940 | Val Accuracy: 91.1206% | Val mIOU: 0.9998 | Val mF1: 0.0970\n"
     ]
    },
    {
     "name": "stderr",
     "output_type": "stream",
     "text": [
      "Epoch 130/150: 100%|██████████| 6/6 [00:02<00:00,  2.46it/s, train_loss=0.0108] \n"
     ]
    },
    {
     "name": "stdout",
     "output_type": "stream",
     "text": [
      "Epoch 130 | Val Loss: 0.1498 | Val Accuracy: 92.6341% | Val mIOU: 0.9999 | Val mF1: 0.0942\n"
     ]
    },
    {
     "name": "stderr",
     "output_type": "stream",
     "text": [
      "Epoch 131/150: 100%|██████████| 6/6 [00:02<00:00,  2.51it/s, train_loss=0.0109] \n"
     ]
    },
    {
     "name": "stdout",
     "output_type": "stream",
     "text": [
      "Epoch 131 | Val Loss: 0.1930 | Val Accuracy: 91.3633% | Val mIOU: 0.9998 | Val mF1: 0.0970\n"
     ]
    },
    {
     "name": "stderr",
     "output_type": "stream",
     "text": [
      "Epoch 132/150: 100%|██████████| 6/6 [00:02<00:00,  2.45it/s, train_loss=0.011]  \n"
     ]
    },
    {
     "name": "stdout",
     "output_type": "stream",
     "text": [
      "Epoch 132 | Val Loss: 0.1946 | Val Accuracy: 91.2741% | Val mIOU: 0.9998 | Val mF1: 0.0884\n"
     ]
    },
    {
     "name": "stderr",
     "output_type": "stream",
     "text": [
      "Epoch 133/150: 100%|██████████| 6/6 [00:02<00:00,  2.48it/s, train_loss=0.00992]\n"
     ]
    },
    {
     "name": "stdout",
     "output_type": "stream",
     "text": [
      "Epoch 133 | Val Loss: 0.1854 | Val Accuracy: 91.7632% | Val mIOU: 0.9999 | Val mF1: 0.0953\n"
     ]
    },
    {
     "name": "stderr",
     "output_type": "stream",
     "text": [
      "Epoch 134/150: 100%|██████████| 6/6 [00:02<00:00,  2.47it/s, train_loss=0.00966]\n"
     ]
    },
    {
     "name": "stdout",
     "output_type": "stream",
     "text": [
      "Epoch 134 | Val Loss: 0.1610 | Val Accuracy: 92.4927% | Val mIOU: 0.9999 | Val mF1: 0.0920\n"
     ]
    },
    {
     "name": "stderr",
     "output_type": "stream",
     "text": [
      "Epoch 135/150: 100%|██████████| 6/6 [00:03<00:00,  1.69it/s, train_loss=0.00905]\n"
     ]
    },
    {
     "name": "stdout",
     "output_type": "stream",
     "text": [
      "Epoch 135 | Val Loss: 0.1869 | Val Accuracy: 91.6346% | Val mIOU: 0.9999 | Val mF1: 0.0916\n"
     ]
    },
    {
     "name": "stderr",
     "output_type": "stream",
     "text": [
      "Epoch 136/150: 100%|██████████| 6/6 [00:03<00:00,  1.67it/s, train_loss=0.00975]\n"
     ]
    },
    {
     "name": "stdout",
     "output_type": "stream",
     "text": [
      "Epoch 136 | Val Loss: 0.1702 | Val Accuracy: 92.3453% | Val mIOU: 0.9999 | Val mF1: 0.0969\n"
     ]
    },
    {
     "name": "stderr",
     "output_type": "stream",
     "text": [
      "Epoch 137/150: 100%|██████████| 6/6 [00:02<00:00,  2.47it/s, train_loss=0.00897]\n"
     ]
    },
    {
     "name": "stdout",
     "output_type": "stream",
     "text": [
      "Epoch 137 | Val Loss: 0.1464 | Val Accuracy: 93.3658% | Val mIOU: 0.9999 | Val mF1: 0.0930\n"
     ]
    },
    {
     "name": "stderr",
     "output_type": "stream",
     "text": [
      "Epoch 138/150: 100%|██████████| 6/6 [00:02<00:00,  2.03it/s, train_loss=0.00815]\n"
     ]
    },
    {
     "name": "stdout",
     "output_type": "stream",
     "text": [
      "Epoch 138 | Val Loss: 0.2019 | Val Accuracy: 91.4931% | Val mIOU: 0.9999 | Val mF1: 0.0912\n"
     ]
    },
    {
     "name": "stderr",
     "output_type": "stream",
     "text": [
      "Epoch 139/150: 100%|██████████| 6/6 [00:02<00:00,  2.48it/s, train_loss=0.00791]\n"
     ]
    },
    {
     "name": "stdout",
     "output_type": "stream",
     "text": [
      "Epoch 139 | Val Loss: 0.1549 | Val Accuracy: 92.7528% | Val mIOU: 0.9999 | Val mF1: 0.0959\n"
     ]
    },
    {
     "name": "stderr",
     "output_type": "stream",
     "text": [
      "Epoch 140/150: 100%|██████████| 6/6 [00:02<00:00,  2.47it/s, train_loss=0.00813]\n"
     ]
    },
    {
     "name": "stdout",
     "output_type": "stream",
     "text": [
      "Epoch 140 | Val Loss: 0.1678 | Val Accuracy: 92.5435% | Val mIOU: 0.9999 | Val mF1: 0.0961\n"
     ]
    },
    {
     "name": "stderr",
     "output_type": "stream",
     "text": [
      "Epoch 141/150: 100%|██████████| 6/6 [00:02<00:00,  2.47it/s, train_loss=0.00783]\n"
     ]
    },
    {
     "name": "stdout",
     "output_type": "stream",
     "text": [
      "Epoch 141 | Val Loss: 0.1738 | Val Accuracy: 92.6652% | Val mIOU: 0.9998 | Val mF1: 0.0970\n"
     ]
    },
    {
     "name": "stderr",
     "output_type": "stream",
     "text": [
      "Epoch 142/150: 100%|██████████| 6/6 [00:02<00:00,  2.47it/s, train_loss=0.00786]\n"
     ]
    },
    {
     "name": "stdout",
     "output_type": "stream",
     "text": [
      "Epoch 142 | Val Loss: 0.1458 | Val Accuracy: 93.1981% | Val mIOU: 0.9998 | Val mF1: 0.0979\n"
     ]
    },
    {
     "name": "stderr",
     "output_type": "stream",
     "text": [
      "Epoch 143/150: 100%|██████████| 6/6 [00:02<00:00,  2.49it/s, train_loss=0.00766]\n"
     ]
    },
    {
     "name": "stdout",
     "output_type": "stream",
     "text": [
      "Epoch 143 | Val Loss: 0.1689 | Val Accuracy: 92.4925% | Val mIOU: 0.9998 | Val mF1: 0.0986\n"
     ]
    },
    {
     "name": "stderr",
     "output_type": "stream",
     "text": [
      "Epoch 144/150: 100%|██████████| 6/6 [00:02<00:00,  2.49it/s, train_loss=0.00702]\n"
     ]
    },
    {
     "name": "stdout",
     "output_type": "stream",
     "text": [
      "Epoch 144 | Val Loss: 0.1708 | Val Accuracy: 92.4841% | Val mIOU: 0.9999 | Val mF1: 0.0951\n"
     ]
    },
    {
     "name": "stderr",
     "output_type": "stream",
     "text": [
      "Epoch 145/150: 100%|██████████| 6/6 [00:02<00:00,  2.46it/s, train_loss=0.00691] \n"
     ]
    },
    {
     "name": "stdout",
     "output_type": "stream",
     "text": [
      "Epoch 145 | Val Loss: 0.1547 | Val Accuracy: 93.2390% | Val mIOU: 0.9998 | Val mF1: 0.0996\n"
     ]
    },
    {
     "name": "stderr",
     "output_type": "stream",
     "text": [
      "Epoch 146/150: 100%|██████████| 6/6 [00:02<00:00,  2.48it/s, train_loss=0.00676] \n"
     ]
    },
    {
     "name": "stdout",
     "output_type": "stream",
     "text": [
      "Epoch 146 | Val Loss: 0.1673 | Val Accuracy: 92.7830% | Val mIOU: 0.9999 | Val mF1: 0.0996\n"
     ]
    },
    {
     "name": "stderr",
     "output_type": "stream",
     "text": [
      "Epoch 147/150: 100%|██████████| 6/6 [00:02<00:00,  2.47it/s, train_loss=0.00776]\n"
     ]
    },
    {
     "name": "stdout",
     "output_type": "stream",
     "text": [
      "Epoch 147 | Val Loss: 0.1486 | Val Accuracy: 93.0786% | Val mIOU: 0.9998 | Val mF1: 0.0989\n"
     ]
    },
    {
     "name": "stderr",
     "output_type": "stream",
     "text": [
      "Epoch 148/150: 100%|██████████| 6/6 [00:02<00:00,  2.45it/s, train_loss=0.00676]\n"
     ]
    },
    {
     "name": "stdout",
     "output_type": "stream",
     "text": [
      "Epoch 148 | Val Loss: 0.1937 | Val Accuracy: 91.8469% | Val mIOU: 0.9999 | Val mF1: 0.0944\n"
     ]
    },
    {
     "name": "stderr",
     "output_type": "stream",
     "text": [
      "Epoch 149/150: 100%|██████████| 6/6 [00:02<00:00,  2.47it/s, train_loss=0.00677] \n"
     ]
    },
    {
     "name": "stdout",
     "output_type": "stream",
     "text": [
      "Epoch 149 | Val Loss: 0.2399 | Val Accuracy: 90.5604% | Val mIOU: 0.9999 | Val mF1: 0.0904\n"
     ]
    },
    {
     "name": "stderr",
     "output_type": "stream",
     "text": [
      "Epoch 150/150: 100%|██████████| 6/6 [00:02<00:00,  2.47it/s, train_loss=0.0079] \n"
     ]
    },
    {
     "name": "stdout",
     "output_type": "stream",
     "text": [
      "Epoch 150 | Val Loss: 0.1713 | Val Accuracy: 92.6601% | Val mIOU: 0.9999 | Val mF1: 0.0982\n",
      "Test Loss: 0.1705 | Test Accuracy: 92.5288% | Test mIOU: 0.9999 | Test mF1: 0.0942\n"
     ]
    }
   ],
   "source": [
    "import torch\n",
    "from tqdm import tqdm\n",
    "import numpy as np\n",
    "\n",
    "# Calculate Intersection over Union (IOU)\n",
    "def calculate_iou(outputs, masks):\n",
    "    outputs = torch.argmax(outputs, dim=1).detach().cpu().numpy() \n",
    "    masks = masks.detach().cpu().numpy()\n",
    "\n",
    "    intersection = np.logical_and(outputs, masks).sum()\n",
    "    union = np.logical_or(outputs, masks).sum()\n",
    "    \n",
    "    iou = (intersection + 1e-6) / (union + 1e-6)  \n",
    "    \n",
    "    return iou\n",
    "\n",
    "# Calculate Accuracy\n",
    "def calculate_accuracy(outputs, masks):\n",
    "    outputs = torch.argmax(outputs, dim=1)\n",
    "    correct = torch.eq(outputs, masks).sum().item()\n",
    "    total_pixels = np.prod(masks.shape)\n",
    "    accuracy = correct / total_pixels * 100.0\n",
    "    \n",
    "    return accuracy\n",
    "\n",
    "# Calculate Mean F1 Score\n",
    "def calculate_mF1(outputs, masks):\n",
    "    smooth = 1e-6\n",
    "    outputs = torch.argmax(outputs, dim=1).cpu().numpy()\n",
    "    masks = masks.cpu().numpy()\n",
    "    \n",
    "    num_classes = outputs.shape[1]\n",
    "    mF1 = 0.0\n",
    "    \n",
    "    for class_id in range(num_classes):\n",
    "        class_output = (outputs == class_id)\n",
    "        class_mask = (masks == class_id)\n",
    "        \n",
    "        tp = np.sum(class_output & class_mask)\n",
    "        fp = np.sum(class_output & ~class_mask)\n",
    "        fn = np.sum(~class_output & class_mask)\n",
    "        \n",
    "        precision = tp / (tp + fp + smooth)\n",
    "        recall = tp / (tp + fn + smooth)\n",
    "        \n",
    "        class_f1 = 2 * (precision * recall) / (precision + recall + smooth)\n",
    "        mF1 += class_f1\n",
    "    \n",
    "    mF1 /= num_classes\n",
    "    \n",
    "    return mF1\n",
    "\n",
    "device = torch.device('cuda' if torch.cuda.is_available() else 'cpu')\n",
    "model.to(device)\n",
    "\n",
    "\n",
    "for epoch in range(num_epochs):\n",
    "    model.train()\n",
    "    train_loss = 0\n",
    "    \n",
    "    train_loader_iter = tqdm(train_loader, desc=f'Epoch {epoch+1}/{num_epochs}', leave=True)\n",
    "    \n",
    "    for images, masks in train_loader_iter:\n",
    "        images, masks = images.to(device), masks.to(device)\n",
    "        \n",
    "        optimizer.zero_grad()\n",
    "        outputs = model(images)\n",
    "        \n",
    "        loss = loss_fn(outputs, masks.long())\n",
    "        loss.backward()\n",
    "        optimizer.step()\n",
    "        \n",
    "        train_loss += loss.item()\n",
    "        \n",
    "        train_loader_iter.set_postfix({'train_loss': train_loss / (len(train_loader_iter))})\n",
    "    \n",
    "    train_loss /= len(train_loader)\n",
    "    \n",
    "    model.eval()\n",
    "    val_loss = 0\n",
    "    val_accuracy = 0\n",
    "    val_mIOU = 0\n",
    "    val_mF1 = 0\n",
    "    val_precision = 0\n",
    "    val_recall = 0\n",
    "    \n",
    "    with torch.no_grad():\n",
    "        for images, masks in val_loader:\n",
    "            images, masks = images.to(device), masks.to(device)\n",
    "            outputs = model(images)\n",
    "            loss = loss_fn(outputs, masks.long())\n",
    "            val_loss += loss.item()\n",
    "            \n",
    "            # Calculate metrics\n",
    "            accuracy = calculate_accuracy(outputs, masks)\n",
    "            mIOU = calculate_iou(outputs, masks)\n",
    "            mF1 = calculate_mF1(outputs, masks)\n",
    "            \n",
    "            val_accuracy += accuracy\n",
    "            val_mIOU += mIOU\n",
    "            val_mF1 += mF1\n",
    "    \n",
    "    val_loss /= len(val_loader)\n",
    "    val_accuracy /= len(val_loader)\n",
    "    val_mIOU /= len(val_loader)\n",
    "    val_mF1 /= len(val_loader)\n",
    "    \n",
    "    # Print validation metrics\n",
    "    print(f'Epoch {epoch+1} | Val Loss: {val_loss:.4f} | Val Accuracy: {val_accuracy:.4f}% | Val mIOU: {val_mIOU:.4f} | Val mF1: {val_mF1:.4f}')\n",
    "\n",
    "# Test loop\n",
    "model.eval()\n",
    "test_loss = 0\n",
    "test_accuracy = 0\n",
    "test_mIOU = 0\n",
    "test_mF1 = 0\n",
    "\n",
    "with torch.no_grad():\n",
    "    for images, masks in test_loader:\n",
    "        images, masks = images.to(device), masks.to(device)\n",
    "        outputs = model(images)\n",
    "        loss = loss_fn(outputs, masks.long())\n",
    "        test_loss += loss.item()\n",
    "        \n",
    "        # Calculate metrics\n",
    "        accuracy = calculate_accuracy(outputs, masks)\n",
    "        mIOU = calculate_iou(outputs, masks)\n",
    "        mF1 = calculate_mF1(outputs, masks)\n",
    "        \n",
    "        test_accuracy += accuracy\n",
    "        test_mIOU += mIOU\n",
    "        test_mF1 += mF1\n",
    "\n",
    "# Average over all batches\n",
    "test_loss /= len(test_loader)\n",
    "test_accuracy /= len(test_loader)\n",
    "test_mIOU /= len(test_loader)\n",
    "test_mF1 /= len(test_loader)\n",
    "\n",
    "# Print test metrics\n",
    "print(f'Test Loss: {test_loss:.4f} | Test Accuracy: {test_accuracy:.4f}% | Test mIOU: {test_mIOU:.4f} | Test mF1: {test_mF1:.4f}')\n"
   ]
  },
  {
   "cell_type": "code",
   "execution_count": 7,
   "id": "0448d71d-7250-4db1-8306-bc83966c220b",
   "metadata": {},
   "outputs": [],
   "source": [
    "import random\n",
    "import numpy as np\n",
    "import torch\n",
    "import matplotlib.pyplot as plt\n",
    "import segmentation_models_pytorch as smp\n",
    "\n",
    "# Define label map and labels (for visualization purposes)\n",
    "label_map = np.array([\n",
    "    (0, 0, 0),          # 0 - Background (Black)\n",
    "    (0, 0, 255),        # 1 - Surface water (Blue)\n",
    "    (135, 206, 250),    # 2 - Street (Light Sky Blue)\n",
    "    (255, 255, 0),      # 3 - Urban Fabric (Yellow)\n",
    "    (128, 0, 0),        # 4 - Industrial, commercial and transport (Maroon)\n",
    "    (139, 37, 0),       # 5 - Mine, dump, and construction sites (Reddish Brown)\n",
    "    (0, 128, 0),        # 6 - Artificial, vegetated areas (Green)\n",
    "    (255, 165, 0),      # 7 - Arable Land (Orange)\n",
    "    (0, 255, 0),        # 8 - Permanent Crops (Lime Green)\n",
    "    (154, 205, 50),     # 9 - Pastures (Yellow Green)\n",
    "    (34, 139, 34),      # 10 - Forests (Forest Green)\n",
    "    (139, 69, 19),      # 11 - Shrub (Saddle Brown)\n",
    "    (245, 245, 220),    # 12 - Open spaces with no vegetation (Beige)\n",
    "    (0, 255, 255),      # 13 - Inland wetlands (Cyan)\n",
    "])\n",
    "\n",
    "labels = [\n",
    "    \"Background\", \"Surface water\", \"Street\", \"Urban Fabric\", \"Industrial, commercial and transport\",\n",
    "    \"Mine, dump, and construction sites\", \"Artificial, vegetated areas\", \"Arable Land\",\n",
    "    \"Permanent Crops\", \"Pastures\", \"Forests\", \"Shrub\", \"Open spaces with no vegetation\", \"Inland wetlands\"\n",
    "]\n",
    "\n",
    "# Function to convert label image to RGB for visualization\n",
    "def label_to_rgb(label_image, label_map):\n",
    "    rgb_image = np.zeros((*label_image.shape, 3), dtype=np.uint8)\n",
    "    for label, color in enumerate(label_map):\n",
    "        rgb_image[label_image == label] = color\n",
    "    return rgb_image\n",
    "\n",
    "def visualize_predictions(model, dataset, label_map, labels, device, num_samples=10):\n",
    "    model.eval()\n",
    "    indices = random.sample(range(len(dataset)), num_samples)\n",
    "    samples = [dataset[i] for i in indices]\n",
    "    \n",
    "    fig, axs = plt.subplots(num_samples, 2, figsize=(12, 5 * num_samples))\n",
    "    \n",
    "    for i, (image, true_label) in enumerate(samples):\n",
    "        with torch.no_grad():\n",
    "            image_tensor = image.unsqueeze(0).to(device)\n",
    "            output = model(image_tensor)\n",
    "        pred_label = torch.argmax(output, dim=1).cpu().numpy().squeeze()\n",
    "\n",
    "        true_label = true_label.numpy()\n",
    "        \n",
    "        axs[i, 0].imshow(label_to_rgb(true_label, label_map))\n",
    "        axs[i, 0].set_title(f\"Sample {indices[i]} - Ground Truth\")\n",
    "        \n",
    "        axs[i, 1].imshow(label_to_rgb(pred_label, label_map))\n",
    "        axs[i, 1].set_title(f\"Sample {indices[i]} - Prediction\")\n",
    "        \n",
    "        for ax in axs[i]:\n",
    "            ax.axis('off')\n",
    "    \n",
    "    # Convert label_map colors to tuple format (0-1 range) for legend\n",
    "    legend_handles = [plt.Line2D([0], [0], color=color/255, lw=4) for color in label_map]\n",
    "    \n",
    "    # Legend\n",
    "    fig.legend(handles=legend_handles, labels=labels, loc='upper right')\n",
    "    \n",
    "    plt.tight_layout()\n",
    "    plt.show()\n",
    "\n",
    "# Plot loss function\n",
    "def plot_loss(train_losses, val_losses=None):\n",
    "    epochs = range(1, len(train_losses) + 1)\n",
    "    \n",
    "    plt.figure(figsize=(10, 5))\n",
    "    plt.plot(epochs, train_losses, 'bo-', label='Training Loss')\n",
    "    \n",
    "    if val_losses is not None:\n",
    "        plt.plot(epochs, val_losses, 'ro-', label='Validation Loss')\n",
    "    \n",
    "    plt.title('Training and Validation Loss')\n",
    "    plt.xlabel('Epochs')\n",
    "    plt.ylabel('Loss')\n",
    "    plt.legend()\n",
    "    plt.grid()\n",
    "    plt.show()\n",
    "\n"
   ]
  },
  {
   "cell_type": "code",
   "execution_count": 8,
   "id": "819411ee-f968-4b7e-8c46-75c8367640fa",
   "metadata": {},
   "outputs": [
    {
     "name": "stderr",
     "output_type": "stream",
     "text": [
      "/tmp/ipykernel_56680/6783197.py:22: UserWarning: To copy construct from a tensor, it is recommended to use sourceTensor.clone().detach() or sourceTensor.clone().detach().requires_grad_(True), rather than torch.tensor(sourceTensor).\n",
      "  return torch.tensor(image, dtype=torch.float32), torch.tensor(label, dtype=torch.long)\n"
     ]
    },
    {
     "data": {
      "image/png": "[encoded data removed]",
      "text/plain": [
       "<Figure size 1200x5000 with 20 Axes>"
      ]
     },
     "metadata": {},
     "output_type": "display_data"
    },
    {
     "ename": "NameError",
     "evalue": "name 'train_losses' is not defined",
     "output_type": "error",
     "traceback": [
      "\u001b[0;31m---------------------------------------------------------------------------\u001b[0m",
      "\u001b[0;31mNameError\u001b[0m                                 Traceback (most recent call last)",
      "Cell \u001b[0;32mIn[8], line 13\u001b[0m\n\u001b[1;32m      9\u001b[0m visualize_predictions(model, test_loader\u001b[38;5;241m.\u001b[39mdataset, label_map, labels, device, num_samples\u001b[38;5;241m=\u001b[39m\u001b[38;5;241m10\u001b[39m)\n\u001b[1;32m     11\u001b[0m \u001b[38;5;66;03m# Plot the training and validation loss\u001b[39;00m\n\u001b[1;32m     12\u001b[0m \u001b[38;5;66;03m# train_losses ve val_losses eğitim sürecinde kaydedilmiş olmalı\u001b[39;00m\n\u001b[0;32m---> 13\u001b[0m plot_loss(\u001b[43mtrain_losses\u001b[49m, val_losses)\n",
      "\u001b[0;31mNameError\u001b[0m: name 'train_losses' is not defined"
     ]
    }
   ],
   "source": [
    "import torch\n",
    "\n",
    "device = torch.device('cuda' if torch.cuda.is_available() else 'cpu')\n",
    "model.to(device)\n",
    "\n",
    "visualize_predictions(model, test_loader.dataset, label_map, labels, device, num_samples=10)\n"
   ]
  },
  {
   "cell_type": "code",
   "execution_count": 9,
   "id": "7385ffaa",
   "metadata": {},
   "outputs": [],
   "source": [
    "import torch\n",
    "torch.save(model.state_dict(), \"best_model.pth\")"
   ]
  }
 ],
 "metadata": {
  "kernelspec": {
   "display_name": "Python 3",
   "language": "python",
   "name": "python3"
  },
  "language_info": {
   "codemirror_mode": {
    "name": "ipython",
    "version": 3
   },
   "file_extension": ".py",
   "mimetype": "text/x-python",
   "name": "python",
   "nbconvert_exporter": "python",
   "pygments_lexer": "ipython3",
   "version": "3.10.10"
  }
 },
 "nbformat": 4,
 "nbformat_minor": 5
}
